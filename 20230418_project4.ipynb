{
  "nbformat": 4,
  "nbformat_minor": 0,
  "metadata": {
    "colab": {
      "provenance": [],
      "authorship_tag": "ABX9TyOfzAf37wkvN0+zZYAdnHpw",
      "include_colab_link": true
    },
    "kernelspec": {
      "name": "python3",
      "display_name": "Python 3"
    },
    "language_info": {
      "name": "python"
    }
  },
  "cells": [
    {
      "cell_type": "markdown",
      "metadata": {
        "id": "view-in-github",
        "colab_type": "text"
      },
      "source": [
        "<a href=\"https://colab.research.google.com/github/gogowonji/Big-Data-Analysis/blob/main/20230418_project4.ipynb\" target=\"_parent\"><img src=\"https://colab.research.google.com/assets/colab-badge.svg\" alt=\"Open In Colab\"/></a>"
      ]
    },
    {
      "cell_type": "code",
      "execution_count": null,
      "metadata": {
        "id": "qyRK-JKDWNZM"
      },
      "outputs": [],
      "source": [
        "from bs4 import BeautifulSoup\n",
        "import urllib.request\n",
        "import pandas as pd\n",
        "import datetime\n",
        "from selenium import webdriver\n",
        "import time\n",
        "\n",
        "def CoffeeBean_store(result):\n",
        "  CoffeeBean_URL = \"https://www.coffeebeankorea.com/store/store.asp\"\n",
        "  wd = webdriver.Chrome(' ') #chromedriver경로\n",
        "  \n",
        "  for i in range(1,20): #지점별로 넘버링한 것을 긁어오는 것\n",
        "    wd.get(CoffeeBean_URL)\n",
        "    time.sleep(1)\n",
        "    try:\n",
        "        wd.execute_script(\"storePop2(%d)\" %i)\n",
        "        time.sleep(1)\n",
        "        html = wd.page_source\n",
        "\n",
        "        with open('testHtml.txt','w',encoding='utf8') as outfile:\n",
        "            outfile.write(html)\n",
        "        soupCB = BeautifulSoup(html, 'html.parser')\n",
        "        store_name_h2 = soupCB.select(\"div.store_txt > h2\")\n",
        "        store_name = store_name_h2[0].string\n",
        "        print(i,store_name)\n",
        "        store_info = soupCB.select(\"div.store_txt > table.store_table > tbody > tr > td\")\n",
        "        store_address_list = list(store_info[2])\n",
        "        store_address = store_address_list[0]\n",
        "        store_phone = store_info[3].string\n",
        "        result.append([store_name]+[store_address]+[store_phone])\n",
        "    except:\n",
        "        print(i,\"fail\")\n",
        "        continue\n",
        "  return\n",
        "\n",
        "def main():\n",
        "    result = []\n",
        "    print('CoffeeBean Store crawling >>>>>>>>>>>>>>>')\n",
        "    CoffeeBean_store(result)\n",
        "    CB_tbl = pd.DataFrame(result, columns = ('store', 'address','phone'))\n",
        "    CB_tbl.to_csv('./CoffeeBean.csv',encoding = 'cp949', mode = 'w', index=True)\n",
        "\n",
        "if __name__ == '__main__':\n",
        "    main()\n",
        "\n"
      ]
    }
  ]
}