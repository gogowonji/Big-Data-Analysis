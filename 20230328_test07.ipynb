{
  "nbformat": 4,
  "nbformat_minor": 0,
  "metadata": {
    "colab": {
      "provenance": [],
      "authorship_tag": "ABX9TyMmFB2p1+Lh318a4UewLJxp",
      "include_colab_link": true
    },
    "kernelspec": {
      "name": "python3",
      "display_name": "Python 3"
    },
    "language_info": {
      "name": "python"
    }
  },
  "cells": [
    {
      "cell_type": "markdown",
      "metadata": {
        "id": "view-in-github",
        "colab_type": "text"
      },
      "source": [
        "<a href=\"https://colab.research.google.com/github/gogowonji/Big-Data-Analysis/blob/main/20230328_test07.ipynb\" target=\"_parent\"><img src=\"https://colab.research.google.com/assets/colab-badge.svg\" alt=\"Open In Colab\"/></a>"
      ]
    },
    {
      "cell_type": "code",
      "execution_count": null,
      "metadata": {
        "colab": {
          "base_uri": "https://localhost:8080/"
        },
        "id": "9pgfVSY0oe0H",
        "outputId": "db268508-ed9e-4188-cbc0-47f47fd7616a"
      },
      "outputs": [
        {
          "output_type": "stream",
          "name": "stdout",
          "text": [
            "[1 2 3 4 5]\n"
          ]
        }
      ],
      "source": [
        "import numpy as np\n",
        "ar1 = np.array([1,2,3,4,5])\n",
        "print(ar1)"
      ]
    },
    {
      "cell_type": "code",
      "source": [
        "print(type(ar1))"
      ],
      "metadata": {
        "colab": {
          "base_uri": "https://localhost:8080/"
        },
        "id": "NmrMYvyxo5qV",
        "outputId": "c19b78be-73d9-4eeb-f4d8-c1c9c78934c5"
      },
      "execution_count": null,
      "outputs": [
        {
          "output_type": "stream",
          "name": "stdout",
          "text": [
            "<class 'numpy.ndarray'>\n"
          ]
        }
      ]
    },
    {
      "cell_type": "code",
      "source": [
        "ar2 = np.array([[10,20,30],[40,50,60]])\n",
        "print(ar2)"
      ],
      "metadata": {
        "colab": {
          "base_uri": "https://localhost:8080/"
        },
        "id": "CJegzpz8pC5U",
        "outputId": "0c9e9c2b-fbb8-4a6d-f5ae-c8a01e6b275e"
      },
      "execution_count": null,
      "outputs": [
        {
          "output_type": "stream",
          "name": "stdout",
          "text": [
            "[[10 20 30]\n",
            " [40 50 60]]\n"
          ]
        }
      ]
    },
    {
      "cell_type": "code",
      "source": [
        "# 배열 만들기 (1~10까지 2씩 건너뛰기)\n",
        "ar3 = np.arange(1,11,2)\n",
        "print(ar3)"
      ],
      "metadata": {
        "colab": {
          "base_uri": "https://localhost:8080/"
        },
        "id": "soITY5fSpd_3",
        "outputId": "8af3e971-fabb-4f8a-ccf5-a6350eab0cdb"
      },
      "execution_count": null,
      "outputs": [
        {
          "output_type": "stream",
          "name": "stdout",
          "text": [
            "[1 3 5 7 9]\n"
          ]
        }
      ]
    },
    {
      "cell_type": "code",
      "source": [
        "ar4 = np.array([1,2,3,4,5,6]).reshape(3,2)\n",
        "print(ar4)"
      ],
      "metadata": {
        "colab": {
          "base_uri": "https://localhost:8080/"
        },
        "id": "G4YVOiVXpoOR",
        "outputId": "992efa13-6ffb-42b0-9f38-b64bde802462"
      },
      "execution_count": null,
      "outputs": [
        {
          "output_type": "stream",
          "name": "stdout",
          "text": [
            "[[1 2]\n",
            " [3 4]\n",
            " [5 6]]\n"
          ]
        }
      ]
    },
    {
      "cell_type": "code",
      "source": [
        "# 초기화\n",
        "ar5 = np.zeros((2,3))\n",
        "print(ar5)"
      ],
      "metadata": {
        "colab": {
          "base_uri": "https://localhost:8080/"
        },
        "id": "VQNo0o1Op_Mk",
        "outputId": "4bce164a-dc59-4fba-8e48-9c616c0e5d7b"
      },
      "execution_count": null,
      "outputs": [
        {
          "output_type": "stream",
          "name": "stdout",
          "text": [
            "[[0. 0. 0.]\n",
            " [0. 0. 0.]]\n"
          ]
        }
      ]
    },
    {
      "cell_type": "code",
      "source": [
        "# 범위 지정\n",
        "ar6 = ar2[0:2,0:2]\n",
        "print(ar6)"
      ],
      "metadata": {
        "colab": {
          "base_uri": "https://localhost:8080/"
        },
        "id": "XYY3sjRhqNJb",
        "outputId": "9e6e182e-2a01-4813-d070-ee08f58d8f7b"
      },
      "execution_count": null,
      "outputs": [
        {
          "output_type": "stream",
          "name": "stdout",
          "text": [
            "[[10 20]\n",
            " [40 50]]\n"
          ]
        }
      ]
    },
    {
      "cell_type": "code",
      "source": [
        "ar7 = ar1 + 10\n",
        "print(ar7)"
      ],
      "metadata": {
        "colab": {
          "base_uri": "https://localhost:8080/"
        },
        "id": "6iERqmebqRZY",
        "outputId": "d585e7ad-bf6e-4992-db01-f63cb28d06a6"
      },
      "execution_count": null,
      "outputs": [
        {
          "output_type": "stream",
          "name": "stdout",
          "text": [
            "[11 12 13 14 15]\n"
          ]
        }
      ]
    },
    {
      "cell_type": "code",
      "source": [
        "print(ar1+ar7)"
      ],
      "metadata": {
        "colab": {
          "base_uri": "https://localhost:8080/"
        },
        "id": "dSFTsJGHr2WD",
        "outputId": "f362a90f-34f2-4690-9923-aba50a8bf783"
      },
      "execution_count": null,
      "outputs": [
        {
          "output_type": "stream",
          "name": "stdout",
          "text": [
            "[12 14 16 18 20]\n"
          ]
        }
      ]
    },
    {
      "cell_type": "code",
      "source": [
        "print(ar7-ar1)"
      ],
      "metadata": {
        "colab": {
          "base_uri": "https://localhost:8080/"
        },
        "id": "MNkQwYlJr6Be",
        "outputId": "a1bd3c44-8bd7-4406-bfc2-f49cb6a673ca"
      },
      "execution_count": null,
      "outputs": [
        {
          "output_type": "stream",
          "name": "stdout",
          "text": [
            "[10 10 10 10 10]\n"
          ]
        }
      ]
    },
    {
      "cell_type": "code",
      "source": [
        "print(ar1*2)"
      ],
      "metadata": {
        "colab": {
          "base_uri": "https://localhost:8080/"
        },
        "id": "VBZEEvA4sDBk",
        "outputId": "6f018447-a006-4247-e153-1bff8768b1f4"
      },
      "execution_count": null,
      "outputs": [
        {
          "output_type": "stream",
          "name": "stdout",
          "text": [
            "[ 2  4  6  8 10]\n"
          ]
        }
      ]
    },
    {
      "cell_type": "code",
      "source": [
        "print(ar1/2)"
      ],
      "metadata": {
        "colab": {
          "base_uri": "https://localhost:8080/"
        },
        "id": "nXYm8x-RsEfS",
        "outputId": "7dac6c13-0545-406b-d8d0-dfb10302f7f8"
      },
      "execution_count": null,
      "outputs": [
        {
          "output_type": "stream",
          "name": "stdout",
          "text": [
            "[0.5 1.  1.5 2.  2.5]\n"
          ]
        }
      ]
    },
    {
      "cell_type": "code",
      "source": [
        "# 행렬곱\n",
        "ar8 = np.dot(ar2,ar4)\n",
        "print(ar8)"
      ],
      "metadata": {
        "colab": {
          "base_uri": "https://localhost:8080/"
        },
        "id": "xFmNH5wYsHPI",
        "outputId": "13d01fd2-a748-4e79-ced0-ee0b4d2ea707"
      },
      "execution_count": null,
      "outputs": [
        {
          "output_type": "stream",
          "name": "stdout",
          "text": [
            "[[220 280]\n",
            " [490 640]]\n"
          ]
        }
      ]
    }
  ]
}