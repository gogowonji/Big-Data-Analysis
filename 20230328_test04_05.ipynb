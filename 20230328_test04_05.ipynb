{
  "nbformat": 4,
  "nbformat_minor": 0,
  "metadata": {
    "colab": {
      "provenance": [],
      "authorship_tag": "ABX9TyOI2/BVNNKQq8n388cCsnOU",
      "include_colab_link": true
    },
    "kernelspec": {
      "name": "python3",
      "display_name": "Python 3"
    },
    "language_info": {
      "name": "python"
    }
  },
  "cells": [
    {
      "cell_type": "markdown",
      "metadata": {
        "id": "view-in-github",
        "colab_type": "text"
      },
      "source": [
        "<a href=\"https://colab.research.google.com/github/gogowonji/Big-Data-Analysis/blob/main/20230328_test04_05.ipynb\" target=\"_parent\"><img src=\"https://colab.research.google.com/assets/colab-badge.svg\" alt=\"Open In Colab\"/></a>"
      ]
    },
    {
      "cell_type": "code",
      "execution_count": null,
      "metadata": {
        "id": "lS8AMLH1XD1L"
      },
      "outputs": [],
      "source": [
        "# 파일이 없는 경우, 생성 후 쓰기\n",
        "f = open(\"test.txt\",'w')\n",
        "\n",
        "for i in range(1,6):\n",
        "  data = \"{} 번째 줄입니다.\\n\".format(i)\n",
        "  f.write(data)\n",
        "\n",
        "f.close()"
      ]
    },
    {
      "cell_type": "code",
      "source": [
        "# 파일이 있는 경우 이어쓰기\n",
        "f = open(\"test.txt\",'a')\n",
        "\n",
        "for i in range(6,11):\n",
        "  data=\"{} 번째 줄입니다.\\n\".format(i)\n",
        "  f.write(data)\n",
        "\n",
        "f.close()"
      ],
      "metadata": {
        "id": "t2d0HpktYbJO"
      },
      "execution_count": null,
      "outputs": []
    },
    {
      "cell_type": "code",
      "source": [
        "# 파일에서 한 줄씩 읽기\n",
        "f = open(\"test.txt\",'r')\n",
        "line = f.readline()\n",
        "print(line)\n",
        "\n",
        "while True:\n",
        "  line=f.readline()\n",
        "  if not line:\n",
        "    break\n",
        "  print(line)\n",
        "\n",
        "f.close()"
      ],
      "metadata": {
        "colab": {
          "base_uri": "https://localhost:8080/"
        },
        "id": "8ec5rO_NZDja",
        "outputId": "4c909325-5c2a-4005-c5ad-fcb4942bfa8f"
      },
      "execution_count": null,
      "outputs": [
        {
          "output_type": "stream",
          "name": "stdout",
          "text": [
            "1 번째 줄입니다.\n",
            "\n",
            "2 번째 줄입니다.\n",
            "\n",
            "3 번째 줄입니다.\n",
            "\n",
            "4 번째 줄입니다.\n",
            "\n",
            "5 번째 줄입니다.\n",
            "\n",
            "6 번째 줄입니다.\n",
            "\n",
            "7 번째 줄입니다.\n",
            "\n",
            "8 번째 줄입니다.\n",
            "\n",
            "9 번째 줄입니다.\n",
            "\n",
            "10 번째 줄입니다.\n",
            "\n"
          ]
        }
      ]
    },
    {
      "cell_type": "code",
      "source": [
        "# 파일에서 여러 줄 읽기\n",
        "f=open(\"test.txt\",'r')\n",
        "lines=f.readlines()\n",
        "print(lines)\n",
        "\n",
        "print(type(lines))\n",
        "\n",
        "for line in lines:\n",
        "  print(line)\n",
        "\n",
        "f.close()"
      ],
      "metadata": {
        "colab": {
          "base_uri": "https://localhost:8080/"
        },
        "id": "TJr1v9P_ZgeG",
        "outputId": "16de0198-d1f6-43af-9bad-af5f1f16dc1d"
      },
      "execution_count": null,
      "outputs": [
        {
          "output_type": "stream",
          "name": "stdout",
          "text": [
            "['1 번째 줄입니다.\\n', '2 번째 줄입니다.\\n', '3 번째 줄입니다.\\n', '4 번째 줄입니다.\\n', '5 번째 줄입니다.\\n', '6 번째 줄입니다.\\n', '7 번째 줄입니다.\\n', '8 번째 줄입니다.\\n', '9 번째 줄입니다.\\n', '10 번째 줄입니다.\\n']\n",
            "<class 'list'>\n",
            "1 번째 줄입니다.\n",
            "\n",
            "2 번째 줄입니다.\n",
            "\n",
            "3 번째 줄입니다.\n",
            "\n",
            "4 번째 줄입니다.\n",
            "\n",
            "5 번째 줄입니다.\n",
            "\n",
            "6 번째 줄입니다.\n",
            "\n",
            "7 번째 줄입니다.\n",
            "\n",
            "8 번째 줄입니다.\n",
            "\n",
            "9 번째 줄입니다.\n",
            "\n",
            "10 번째 줄입니다.\n",
            "\n"
          ]
        }
      ]
    },
    {
      "cell_type": "code",
      "source": [
        "# 파일 전체 읽기\n",
        "f=open(\"test.txt\", 'r')\n",
        "data = f.read()\n",
        "print(type(data))\n",
        "print(data)\n",
        "f.close()"
      ],
      "metadata": {
        "colab": {
          "base_uri": "https://localhost:8080/"
        },
        "id": "aB__DgebZ1Ym",
        "outputId": "4f29deb0-501d-4e1a-9a3e-a56223c6a0ba"
      },
      "execution_count": null,
      "outputs": [
        {
          "output_type": "stream",
          "name": "stdout",
          "text": [
            "<class 'str'>\n",
            "1 번째 줄입니다.\n",
            "2 번째 줄입니다.\n",
            "3 번째 줄입니다.\n",
            "4 번째 줄입니다.\n",
            "5 번째 줄입니다.\n",
            "6 번째 줄입니다.\n",
            "7 번째 줄입니다.\n",
            "8 번째 줄입니다.\n",
            "9 번째 줄입니다.\n",
            "10 번째 줄입니다.\n",
            "\n"
          ]
        }
      ]
    }
  ]
}