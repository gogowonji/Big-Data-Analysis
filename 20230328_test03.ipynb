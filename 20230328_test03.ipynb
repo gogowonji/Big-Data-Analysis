{
  "nbformat": 4,
  "nbformat_minor": 0,
  "metadata": {
    "colab": {
      "provenance": [],
      "authorship_tag": "ABX9TyNt/wt0WE1dZuF0/CTFYJqO",
      "include_colab_link": true
    },
    "kernelspec": {
      "name": "python3",
      "display_name": "Python 3"
    },
    "language_info": {
      "name": "python"
    }
  },
  "cells": [
    {
      "cell_type": "markdown",
      "metadata": {
        "id": "view-in-github",
        "colab_type": "text"
      },
      "source": [
        "<a href=\"https://colab.research.google.com/github/gogowonji/Big-Data-Analysis/blob/main/20230328_test03.ipynb\" target=\"_parent\"><img src=\"https://colab.research.google.com/assets/colab-badge.svg\" alt=\"Open In Colab\"/></a>"
      ]
    },
    {
      "cell_type": "code",
      "execution_count": null,
      "metadata": {
        "colab": {
          "base_uri": "https://localhost:8080/"
        },
        "id": "5I2V2_NoTpW-",
        "outputId": "ba887603-bd7b-444a-f91f-ba2fc1346c8f"
      },
      "outputs": [
        {
          "output_type": "stream",
          "name": "stdout",
          "text": [
            "로또 추첨을 시작합니다!!!\n",
            "이번 로또 번호 --> 8  10  12  15  40  41  "
          ]
        }
      ],
      "source": [
        "import random\n",
        "def lottoFunc():\n",
        "  return random.randint(1,45)\n",
        "\n",
        "lolist = []\n",
        "\n",
        "while len(lolist) < 6:\n",
        "  num =lottoFunc()\n",
        "  if(num not in lolist):\n",
        "    lolist.append(num)\n",
        "lolist.sort()\n",
        "\n",
        "print(\"로또 추첨을 시작합니다!!!\")\n",
        "# print(\"이번 로또 번호 -->\", lolist)\n",
        "print(\"이번 로또 번호 -->\", end=' ')\n",
        "for i in range(6):\n",
        "  print(lolist[i], end='  ')"
      ]
    }
  ]
}