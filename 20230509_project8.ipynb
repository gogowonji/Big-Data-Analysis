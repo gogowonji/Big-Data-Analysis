{
  "nbformat": 4,
  "nbformat_minor": 0,
  "metadata": {
    "colab": {
      "provenance": [],
      "authorship_tag": "ABX9TyMfsaXQUyOVUEfJD1PXIYNN",
      "include_colab_link": true
    },
    "kernelspec": {
      "name": "python3",
      "display_name": "Python 3"
    },
    "language_info": {
      "name": "python"
    }
  },
  "cells": [
    {
      "cell_type": "markdown",
      "metadata": {
        "id": "view-in-github",
        "colab_type": "text"
      },
      "source": [
        "<a href=\"https://colab.research.google.com/github/gogowonji/Big-Data-Analysis/blob/main/20230509_project8.ipynb\" target=\"_parent\"><img src=\"https://colab.research.google.com/assets/colab-badge.svg\" alt=\"Open In Colab\"/></a>"
      ]
    },
    {
      "cell_type": "code",
      "execution_count": 2,
      "metadata": {
        "colab": {
          "base_uri": "https://localhost:8080/"
        },
        "id": "0-rO2Dzo0CxA",
        "outputId": "fd8af376-ed5a-4bab-cb11-58457cfd7ad2"
      },
      "outputs": [
        {
          "output_type": "stream",
          "name": "stdout",
          "text": [
            "   store                              address        phone\n",
            "0   차병원점            서울시 강남구 논현로 566 강남차병원1층    02-538-7615\n",
            "1  강남대로점                서울시 서초구 강남대로 369 1층    02-588-5778\n",
            "2  청담에스점  서울시 강남구 압구정로 461 네이처포엠빌딩B108,109호    02-548-6052\n",
            "3    신사점                   서울시 강남구 도산대로 126    02-548-2741\n",
            "4  압구정역점            서울시 강남구 논현로 842 압구정빌딩1층    02-544-6823\n",
            "[['서울시', '강남구', '논현로', '566', '강남차병원1층'], ['서울시', '서초구', '강남대로', '369', '1층'], ['서울시', '강남구', '압구정로', '461', '네이처포엠빌딩B108,109호'], ['서울시', '강남구', '도산대로', '126'], ['서울시', '강남구', '논현로', '842', '압구정빌딩1층'], ['서울시', '강남구', '논현로', '512', '지상1,2층'], ['서울시', '서초구', '강남대로', '213', '24호', '지하1층'], ['서울시', '강남구', '삼성로', '716', 'LEE76빌딩2층'], ['서울', '서초구', '반포동', '736-17', 'P빌딩', '2층'], ['서울시', '강남구', '언주로', '30길', '10,112', '현대비젼21', '112호'], ['서울시', '강남구', '선릉로', '749', '1,2층'], ['서울시', '강남구', '도산대로49길', '13', '1층', '17,18호'], ['서울시', '강남구', '선릉로', '157길', '12', '석전빌딩', '1~4층'], ['서울시', '서초구', '강남대로', '51길', '1', '511', 'TOWER', '1층'], ['서울시', '강남구', '논현', '231-13호', '팍스타워지하1층'], ['서울', '강남구', '영동대로', '513', '컨벤션별관A동', '지하', '2층'], ['서울시', '강남구', '영동대로', '511', '트레이드타워', '지하1층'], ['서울시', '강남구', '영동대로', '607', '1,2층'], ['서울시', '송파구', '석촌호수로', '118', '1층'], ['서울시', '서초구', '서초동', '1685-8호', '101~2호,113~4호,121호'], ['서울시', '강남구', '논현로', '717', '1층'], ['서울시', '서초구', '서초대로74길', '11', '지하2층'], ['서울시', '서초구', '서초대로74길', '4', '삼성생명보험서초타워내지하1층'], ['서울특별시', '서초구', '방배중앙로', '187'], ['서울시', '강남구', '테헤란로', '20길', '10', '쓰리엠타워1층'], ['서울시', '강남구', '테헤란로', '70길', '12', '1층'], ['서울시', '강남구', '봉은사로', '628', '엘슨빌딩1층'], ['서울시', '송파구', '오금로', '11길', '7']]\n"
          ]
        }
      ],
      "source": [
        "import pandas as pd\n",
        "cbData = pd.read_csv('CoffeeBean.csv', encoding='CP949', index_col=0, header=0, engine='python')\n",
        "print(cbData.head())\n",
        "addr = []\n",
        "for address in cbData.address:\n",
        "  addr.append(str(address).split())\n",
        "\n",
        "print(addr)"
      ]
    },
    {
      "cell_type": "code",
      "source": [
        "addr2 = []\n",
        "for i in range(len(addr)):\n",
        "  if addr[i][0] == \"서울\": addr[i][0] = \"서울특별시\"\n",
        "  elif addr[i][0] == \"서울시\": addr[i][0] = \"서울특별시\"\n",
        "  elif addr[i][0] == \"부산시\": addr[i][0] = \"부산광역시\"\n",
        "  elif addr[i][0] == \"인천\": addr[i][0] = \"인천광역시\"\n",
        "  elif addr[i][0] == \"광주\": addr[i][0] = \"광주광역시\"\n",
        "  elif addr[i][0] == \"대전시\": addr[i][0] = \"대전광역시\"\n",
        "  elif addr[i][0] == \"울산시\": addr[i][0] = \"울산광역시\"\n",
        "  elif addr[i][0] == \"세종시\": addr[i][0] = \"세종특별자치시\"\n",
        "  elif addr[i][0] == \"경기\": addr[i][0] = \"경기도\"\n",
        "  elif addr[i][0] == \"충북\": addr[i][0] = \"충청북도\"\n",
        "  elif addr[i][0] == \"충남\": addr[i][0] = \"충청남도\"\n",
        "  elif addr[i][0] == \"전북\": addr[i][0] = \"전라북도\"\n",
        "  elif addr[i][0] == \"전남\": addr[i][0] = \"전라남도\"\n",
        "  elif addr[i][0] == \"경북\": addr[i][0] = \"경상북도\"\n",
        "  elif addr[i][0] == \"경남\": addr[i][0] = \"경상남도\"\n",
        "  elif addr[i][0] == \"제주\": addr[i][0] = \"제주특별자치도\"\n",
        "  elif addr[i][0] == \"제주도\": addr[i][0] = \"제주특별자치도\"\n",
        "  elif addr[i][0] == \"제주시\": addr[i][0] = \"제주특별자치도\"\n",
        "  addr2.append(' '.join(addr[i])) # '서울특별시성북구' 안되게 하려고\n",
        "print(addr2)"
      ],
      "metadata": {
        "colab": {
          "base_uri": "https://localhost:8080/"
        },
        "id": "ndLQvexl56br",
        "outputId": "7f1c841a-6fb7-4ad9-c9fc-403c1b31003a"
      },
      "execution_count": 3,
      "outputs": [
        {
          "output_type": "stream",
          "name": "stdout",
          "text": [
            "['서울특별시 강남구 논현로 566 강남차병원1층', '서울특별시 서초구 강남대로 369 1층', '서울특별시 강남구 압구정로 461 네이처포엠빌딩B108,109호', '서울특별시 강남구 도산대로 126', '서울특별시 강남구 논현로 842 압구정빌딩1층', '서울특별시 강남구 논현로 512 지상1,2층', '서울특별시 서초구 강남대로 213 24호 지하1층', '서울특별시 강남구 삼성로 716 LEE76빌딩2층', '서울특별시 서초구 반포동 736-17 P빌딩 2층', '서울특별시 강남구 언주로 30길 10,112 현대비젼21 112호', '서울특별시 강남구 선릉로 749 1,2층', '서울특별시 강남구 도산대로49길 13 1층 17,18호', '서울특별시 강남구 선릉로 157길 12 석전빌딩 1~4층', '서울특별시 서초구 강남대로 51길 1 511 TOWER 1층', '서울특별시 강남구 논현 231-13호 팍스타워지하1층', '서울특별시 강남구 영동대로 513 컨벤션별관A동 지하 2층', '서울특별시 강남구 영동대로 511 트레이드타워 지하1층', '서울특별시 강남구 영동대로 607 1,2층', '서울특별시 송파구 석촌호수로 118 1층', '서울특별시 서초구 서초동 1685-8호 101~2호,113~4호,121호', '서울특별시 강남구 논현로 717 1층', '서울특별시 서초구 서초대로74길 11 지하2층', '서울특별시 서초구 서초대로74길 4 삼성생명보험서초타워내지하1층', '서울특별시 서초구 방배중앙로 187', '서울특별시 강남구 테헤란로 20길 10 쓰리엠타워1층', '서울특별시 강남구 테헤란로 70길 12 1층', '서울특별시 강남구 봉은사로 628 엘슨빌딩1층', '서울특별시 송파구 오금로 11길 7']\n"
          ]
        }
      ]
    },
    {
      "cell_type": "code",
      "source": [
        "addr2 = pd.DataFrame(addr2, columns=['address2'])\n",
        "cbData2 = pd.concat([cbData, addr2], axis=1)\n",
        "# axis=1 가로로 결합, axis=0 은 세로로 결합\n",
        "cbData2.head()\n",
        "cbData2.to_csv('Coffeebean2.csv', encoding='CP949',index=False)"
      ],
      "metadata": {
        "id": "GnK_VDww6fhz"
      },
      "execution_count": 4,
      "outputs": []
    },
    {
      "cell_type": "code",
      "source": [
        "!pip install folium\n",
        "import folium"
      ],
      "metadata": {
        "colab": {
          "base_uri": "https://localhost:8080/"
        },
        "id": "Ypi6lNMQ7l9M",
        "outputId": "f2f74978-95ef-4423-86fb-77b6ae975710"
      },
      "execution_count": 5,
      "outputs": [
        {
          "output_type": "stream",
          "name": "stdout",
          "text": [
            "Looking in indexes: https://pypi.org/simple, https://us-python.pkg.dev/colab-wheels/public/simple/\n",
            "Requirement already satisfied: folium in /usr/local/lib/python3.10/dist-packages (0.14.0)\n",
            "Requirement already satisfied: branca>=0.6.0 in /usr/local/lib/python3.10/dist-packages (from folium) (0.6.0)\n",
            "Requirement already satisfied: jinja2>=2.9 in /usr/local/lib/python3.10/dist-packages (from folium) (3.1.2)\n",
            "Requirement already satisfied: numpy in /usr/local/lib/python3.10/dist-packages (from folium) (1.22.4)\n",
            "Requirement already satisfied: requests in /usr/local/lib/python3.10/dist-packages (from folium) (2.27.1)\n",
            "Requirement already satisfied: MarkupSafe>=2.0 in /usr/local/lib/python3.10/dist-packages (from jinja2>=2.9->folium) (2.1.2)\n",
            "Requirement already satisfied: urllib3<1.27,>=1.21.1 in /usr/local/lib/python3.10/dist-packages (from requests->folium) (1.26.15)\n",
            "Requirement already satisfied: certifi>=2017.4.17 in /usr/local/lib/python3.10/dist-packages (from requests->folium) (2022.12.7)\n",
            "Requirement already satisfied: charset-normalizer~=2.0.0 in /usr/local/lib/python3.10/dist-packages (from requests->folium) (2.0.12)\n",
            "Requirement already satisfied: idna<4,>=2.5 in /usr/local/lib/python3.10/dist-packages (from requests->folium) (3.4)\n"
          ]
        }
      ]
    },
    {
      "cell_type": "code",
      "source": [
        "mapNam = folium.Map(location=[37.5658049,126.9751461], zoom_start=30) #덕수궁\n",
        "mapNam.save('map.html')"
      ],
      "metadata": {
        "id": "g_UQ1bm38Jzs"
      },
      "execution_count": 6,
      "outputs": []
    },
    {
      "cell_type": "markdown",
      "source": [
        "http://www.geoservice.co.kr:777/\n",
        "\n",
        "지도 정보 위도 경도로 바꿔주기\n",
        "\n",
        "csv 파일 업로드\n",
        "\n",
        "-> 지오코딩 (address2 위도 경도 정도 얻어오기)\n",
        "\n",
        "-> 아카이브 저장\n",
        "\n",
        "-> SSH파일 csv 파일로 변환\n",
        "\n",
        "-> 저장\n"
      ],
      "metadata": {
        "id": "re1xI29gvUsE"
      }
    },
    {
      "cell_type": "code",
      "source": [
        "cbGeoData=pd.read_csv('geoData.csv', encoding='cp949', engine='python', sep='\\t')\n",
        "#cbGeoData.rename(columns={'_Y':'위도','_X':'경도'}, inplace=True)\n",
        "mapCB=folium.Map(location=[37.5555038,126.9737511],zoom_start=15)\n",
        "for i, store in cbGeoData.iterrows():\n",
        "  folium.Marker(location=[store['위도'],store['경도']],\n",
        "popup=store['store'],icon=folium.Icon(color='red',icon='star')).add_to(mapCB)\n",
        "mapCB.save('map_cb.html')"
      ],
      "metadata": {
        "id": "uoNEqbsN8VFZ"
      },
      "execution_count": 15,
      "outputs": []
    }
  ]
}