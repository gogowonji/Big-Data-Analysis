{
  "nbformat": 4,
  "nbformat_minor": 0,
  "metadata": {
    "colab": {
      "provenance": [],
      "authorship_tag": "ABX9TyNSIdBqaIztR0goC/NDKeFj",
      "include_colab_link": true
    },
    "kernelspec": {
      "name": "python3",
      "display_name": "Python 3"
    },
    "language_info": {
      "name": "python"
    }
  },
  "cells": [
    {
      "cell_type": "markdown",
      "metadata": {
        "id": "view-in-github",
        "colab_type": "text"
      },
      "source": [
        "<a href=\"https://colab.research.google.com/github/gogowonji/Big-Data-Analysis/blob/main/20230404_test09.ipynb\" target=\"_parent\"><img src=\"https://colab.research.google.com/assets/colab-badge.svg\" alt=\"Open In Colab\"/></a>"
      ]
    },
    {
      "cell_type": "code",
      "execution_count": 1,
      "metadata": {
        "colab": {
          "base_uri": "https://localhost:8080/"
        },
        "id": "qad0_4NQKDDB",
        "outputId": "02b41605-ba2b-4e9f-b5d6-d9867dfbb387"
      },
      "outputs": [
        {
          "output_type": "stream",
          "name": "stdout",
          "text": [
            "{'year': [2018, 2019, 2020], 'sales': [350, 480, 1099]}\n"
          ]
        }
      ],
      "source": [
        "import pandas as pd\n",
        "\n",
        "data_dic = {'year':[2018,2019,2020],'sales':[350,480,1099]}\n",
        "print(data_dic)"
      ]
    },
    {
      "cell_type": "code",
      "source": [
        "df1 = pd.DataFrame(data_dic)\n",
        "print(df1)"
      ],
      "metadata": {
        "colab": {
          "base_uri": "https://localhost:8080/"
        },
        "id": "VV-g-2paSBlf",
        "outputId": "14b4d134-3295-4166-cab3-fddbc521cd42"
      },
      "execution_count": 2,
      "outputs": [
        {
          "output_type": "stream",
          "name": "stdout",
          "text": [
            "   year  sales\n",
            "0  2018    350\n",
            "1  2019    480\n",
            "2  2020   1099\n"
          ]
        }
      ]
    },
    {
      "cell_type": "code",
      "source": [
        "data2 =['1반','2반','3반','4반','5반']\n",
        "df2 = pd.DataFrame([[89,92,90],[92.8,89.9,95.2]], index=['중간고사','기말고사'],columns=data2[0:3])\n",
        "print(df2)"
      ],
      "metadata": {
        "colab": {
          "base_uri": "https://localhost:8080/"
        },
        "id": "Fs2K910vSH7l",
        "outputId": "2322b8dc-c271-4c64-a82f-9d73fb07ddd5"
      },
      "execution_count": 10,
      "outputs": [
        {
          "output_type": "stream",
          "name": "stdout",
          "text": [
            "        1반    2반    3반\n",
            "중간고사  89.0  92.0  90.0\n",
            "기말고사  92.8  89.9  95.2\n"
          ]
        }
      ]
    },
    {
      "cell_type": "code",
      "source": [
        "data_df = [['20201101','Hong','90','95'],['20201102','Kim','93','94'],['20201103','Lee','87','97']]\n",
        "df3 = pd.DataFrame(data_df)\n",
        "print(df3)"
      ],
      "metadata": {
        "colab": {
          "base_uri": "https://localhost:8080/"
        },
        "id": "ZiksAvx5SnbN",
        "outputId": "05878795-b6fa-4560-dbb5-31d18366c7f4"
      },
      "execution_count": 9,
      "outputs": [
        {
          "output_type": "stream",
          "name": "stdout",
          "text": [
            "          0     1   2   3\n",
            "0  20201101  Hong  90  95\n",
            "1  20201102   Kim  93  94\n",
            "2  20201103   Lee  87  97\n"
          ]
        }
      ]
    },
    {
      "cell_type": "code",
      "source": [
        "df3.columns = ['학번','이름','중간고사','기말고사']\n",
        "print(df3)"
      ],
      "metadata": {
        "colab": {
          "base_uri": "https://localhost:8080/"
        },
        "id": "CxVkTGXNUTnE",
        "outputId": "1d4bb531-329e-4b8c-e580-db996d80e558"
      },
      "execution_count": 11,
      "outputs": [
        {
          "output_type": "stream",
          "name": "stdout",
          "text": [
            "         학번    이름 중간고사 기말고사\n",
            "0  20201101  Hong   90   95\n",
            "1  20201102   Kim   93   94\n",
            "2  20201103   Lee   87   97\n"
          ]
        }
      ]
    },
    {
      "cell_type": "code",
      "source": [
        "print(df3.head(2))"
      ],
      "metadata": {
        "colab": {
          "base_uri": "https://localhost:8080/"
        },
        "id": "JtutosaWVFKS",
        "outputId": "6d76b0b4-b7a5-4672-90ee-e63c3fa2eaa2"
      },
      "execution_count": 12,
      "outputs": [
        {
          "output_type": "stream",
          "name": "stdout",
          "text": [
            "         학번    이름 중간고사 기말고사\n",
            "0  20201101  Hong   90   95\n",
            "1  20201102   Kim   93   94\n"
          ]
        }
      ]
    },
    {
      "cell_type": "code",
      "source": [
        "print(df3.tail(2))"
      ],
      "metadata": {
        "colab": {
          "base_uri": "https://localhost:8080/"
        },
        "id": "3vhgnzdGVYL7",
        "outputId": "e34e76a7-cad9-431d-f472-77903c42e814"
      },
      "execution_count": 13,
      "outputs": [
        {
          "output_type": "stream",
          "name": "stdout",
          "text": [
            "         학번   이름 중간고사 기말고사\n",
            "1  20201102  Kim   93   94\n",
            "2  20201103  Lee   87   97\n"
          ]
        }
      ]
    },
    {
      "cell_type": "code",
      "source": [
        "print(df3['이름'])"
      ],
      "metadata": {
        "colab": {
          "base_uri": "https://localhost:8080/"
        },
        "id": "HXCVe3y8VbTL",
        "outputId": "121166fc-eb20-418e-a8ff-d575a8e1179b"
      },
      "execution_count": 14,
      "outputs": [
        {
          "output_type": "stream",
          "name": "stdout",
          "text": [
            "0    Hong\n",
            "1     Kim\n",
            "2     Lee\n",
            "Name: 이름, dtype: object\n"
          ]
        }
      ]
    },
    {
      "cell_type": "code",
      "source": [
        "df3.to_csv(r'pandaTestWrite.csv',encoding='euc-kr')"
      ],
      "metadata": {
        "id": "p73a32hZVgW8"
      },
      "execution_count": 15,
      "outputs": []
    },
    {
      "cell_type": "code",
      "source": [
        "df4 = pd.read_csv('inputTest.csv',encoding='utf-8',index_col=0,engine='python')\n",
        "print(df4)"
      ],
      "metadata": {
        "colab": {
          "base_uri": "https://localhost:8080/"
        },
        "id": "KGyd_UXVVzVy",
        "outputId": "2fd373e8-8d1c-4808-b62e-ece12632c9d0"
      },
      "execution_count": 19,
      "outputs": [
        {
          "output_type": "stream",
          "name": "stdout",
          "text": [
            "       3월     4월     5월     6월    7월\n",
            "수입  15000  20000  35000  20000  1800\n",
            "지출  10000  21000  31500  22000  1200\n",
            "잔고   5000  -1000   3500  -2000   600\n"
          ]
        }
      ]
    },
    {
      "cell_type": "code",
      "source": [],
      "metadata": {
        "id": "aCfLNOgxWWOC"
      },
      "execution_count": null,
      "outputs": []
    }
  ]
}