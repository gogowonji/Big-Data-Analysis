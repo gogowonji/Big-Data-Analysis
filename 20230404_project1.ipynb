{
  "nbformat": 4,
  "nbformat_minor": 0,
  "metadata": {
    "colab": {
      "provenance": [],
      "authorship_tag": "ABX9TyMoR4YysTf67Jy2RZ+yn0jw",
      "include_colab_link": true
    },
    "kernelspec": {
      "name": "python3",
      "display_name": "Python 3"
    },
    "language_info": {
      "name": "python"
    }
  },
  "cells": [
    {
      "cell_type": "markdown",
      "metadata": {
        "id": "view-in-github",
        "colab_type": "text"
      },
      "source": [
        "<a href=\"https://colab.research.google.com/github/gogowonji/Big-Data-Analysis/blob/main/20230404_project1.ipynb\" target=\"_parent\"><img src=\"https://colab.research.google.com/assets/colab-badge.svg\" alt=\"Open In Colab\"/></a>"
      ]
    },
    {
      "cell_type": "code",
      "execution_count": 15,
      "metadata": {
        "id": "lPY7S78jjI4T",
        "colab": {
          "base_uri": "https://localhost:8080/"
        },
        "outputId": "60a971a1-186c-43cb-d134-9b733fe6d02b"
      },
      "outputs": [
        {
          "output_type": "stream",
          "name": "stdout",
          "text": [
            "검색어를 입력하세요: 납치\n",
            "[2023-04-06 05:24:10.169874] Url Request Success\n",
            "[2023-04-06 05:24:11.166876] Url Request Success\n",
            "[2023-04-06 05:24:12.162902] Url Request Success\n",
            "[2023-04-06 05:24:13.201820] Url Request Success\n",
            "[2023-04-06 05:24:14.220276] Url Request Success\n",
            "[2023-04-06 05:24:15.174231] Url Request Success\n",
            "[2023-04-06 05:24:16.143614] Url Request Success\n",
            "[2023-04-06 05:24:17.115935] Url Request Success\n",
            "[2023-04-06 05:24:18.087106] Url Request Success\n",
            "[2023-04-06 05:24:19.034661] Url Request Success\n",
            "HTTP Error 400: Bad Request\n",
            "[2023-04-06 05:24:19.766707] Error for URL : https://openapi.naver.com/v1/search/news.json?query=%EB%82%A9%EC%B9%98&start=1001&display=100\n",
            "전체 검색 : 437433 건\n",
            "가져온 데이터 : 1000 건\n",
            "납치_naver_news.json SAVED\n"
          ]
        }
      ],
      "source": [
        "import os\n",
        "import sys\n",
        "import urllib.request\n",
        "import datetime\n",
        "import time\n",
        "import json\n",
        "\n",
        "client_id = ''\n",
        "client_secret = ''\n",
        "\n",
        "# code 1\n",
        "def getRequestUrl(url):\n",
        "  req = urllib.request.Request(url)\n",
        "  req.add_header(\"X-Naver-Client-Id\", client_id)\n",
        "  req.add_header(\"X-Naver-Client-Secret\", client_secret)\n",
        "  \n",
        "  try:\n",
        "    response = urllib.request.urlopen(req)\n",
        "    if response.getcode() == 200:\n",
        "      print(\"[%s] Url Request Success\" % datetime.datetime.now())\n",
        "      return response.read().decode('utf-8')\n",
        "  except Exception as e:\n",
        "    print(e)\n",
        "    print(\"[%s] Error for URL : %s\" % (datetime.datetime.now(),url))\n",
        "    return None\n",
        "\n",
        "# code 2\n",
        "def getNaverSearch(node, srcText, start, display):\n",
        "  base = \"https://openapi.naver.com/v1/search\"\n",
        "  node = \"/%s.json\" %node\n",
        "  parameters = \"?query=%s&start=%s&display=%s\" % (urllib.parse.quote(srcText), start, display)\n",
        "\n",
        "  url = base + node + parameters\n",
        "  responseDecode = getRequestUrl(url) # code 1로 이동\n",
        "  \n",
        "  if(responseDecode == None):\n",
        "    return None\n",
        "  else:\n",
        "    return json.loads(responseDecode)\n",
        "\n",
        "# code 3\n",
        "def getPostData(post, jsonResult, cnt):\n",
        "  title = post['title']\n",
        "  description = post['description']\n",
        "  org_link = post['originallink']\n",
        "  link = post['link']\n",
        "\n",
        "  pDate = datetime.datetime.strptime(post['pubDate'], '%a, %d %b %Y %H:%M:%S +0900')\n",
        "  pDate = pDate.strftime('%Y-%m-%d %H:%M:%S')\n",
        "  jsonResult.append({'cnt':cnt,'title':title,'description':description,\n",
        "                     'org_link':org_link, 'link':org_link, 'pDate':pDate})\n",
        "  return\n",
        "\n",
        "# code 0\n",
        "def main():\n",
        "  node = 'news'\n",
        "  srcText = input('검색어를 입력하세요: ')\n",
        "  cnt = 0\n",
        "  jsonResult = []\n",
        "\n",
        "  jsonResponse = getNaverSearch(node, srcText, 1, 100) # code 2로 이동 - 네이버 뉴스 검색에 대한 응답을 저장하는 객체(dict)\n",
        "  total =  jsonResponse['total']\n",
        "\n",
        "  while ((jsonResponse != None) and (jsonResponse['display'] != 0)):\n",
        "    for post in jsonResponse['items']:\n",
        "      cnt += 1\n",
        "      getPostData(post, jsonResult, cnt)\n",
        "    start = jsonResponse['start'] + jsonResponse['display']\n",
        "    jsonResponse = getNaverSearch(node, srcText, start, 100)\n",
        "  \n",
        "  print('전체 검색 : %d 건' %total)\n",
        "\n",
        "  with open('%s_naver_%s.json' %(srcText, node), 'w', encoding = 'utf8') as outfile:\n",
        "    jsonFile = json.dumps(jsonResult, indent = 4, sort_keys = True, ensure_ascii = False) # Json 타입으로 바꿔주기 indent(들여쓰기)\n",
        "    outfile.write(jsonFile)\n",
        "  print(\"가져온 데이터 : %d 건\" %(cnt))\n",
        "  print('%s_naver_%s.json SAVED' % (srcText,node))\n",
        "\n",
        "if __name__ == '__main__':\n",
        "  main()"
      ]
    }
  ]
}