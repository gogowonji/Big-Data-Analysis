{
  "nbformat": 4,
  "nbformat_minor": 0,
  "metadata": {
    "colab": {
      "provenance": [],
      "authorship_tag": "ABX9TyO/1VVGLa34B97Vbif0kqLL",
      "include_colab_link": true
    },
    "kernelspec": {
      "name": "python3",
      "display_name": "Python 3"
    },
    "language_info": {
      "name": "python"
    }
  },
  "cells": [
    {
      "cell_type": "markdown",
      "metadata": {
        "id": "view-in-github",
        "colab_type": "text"
      },
      "source": [
        "<a href=\"https://colab.research.google.com/github/gogowonji/Big-Data-Analysis/blob/main/20230411_hollys.ipynb\" target=\"_parent\"><img src=\"https://colab.research.google.com/assets/colab-badge.svg\" alt=\"Open In Colab\"/></a>"
      ]
    },
    {
      "cell_type": "code",
      "execution_count": 14,
      "metadata": {
        "colab": {
          "base_uri": "https://localhost:8080/"
        },
        "id": "-D3BwUdgxw-s",
        "outputId": "0676d04d-c4fb-41a0-b65b-8259b24190ae"
      },
      "outputs": [
        {
          "output_type": "stream",
          "name": "stdout",
          "text": [
            "Hollys store crawling>>>>>>>>>>>>>\n"
          ]
        }
      ],
      "source": [
        "from bs4 import BeautifulSoup\n",
        "import urllib.request\n",
        "import pandas as pd\n",
        "import datetime\n",
        "\n",
        "def hollys_store(result):\n",
        "  for page in range(1,58): #끝 페이지까지\n",
        "    Hollys_url = 'https://www.hollys.co.kr/store/korea/korStore.do?pageNo=%d&sido=&gugun=&store='%page\n",
        "    html = urllib.request.urlopen(Hollys_url)\n",
        "    soupHollys = BeautifulSoup(html, 'html.parser')\n",
        "    tag_tbody = soupHollys.find('tbody')\n",
        "    for store in tag_tbody.find_all('tr'):\n",
        "      store_td = store.find_all('td')\n",
        "      store_name = store_td[1].string\n",
        "      store_sido = store_td[0].string\n",
        "      store_address = store_td[3].string\n",
        "      store_phone = store_td[5].string\n",
        "      result.append([store_name]+[store_sido]+[store_address]+[store_phone])\n",
        "  return\n",
        "  \n",
        "def main():\n",
        "  result = []\n",
        "  print('Hollys store crawling>>>>>>>>>>>>>')\n",
        "  hollys_store(result)\n",
        "  hollys_tbl = pd.DataFrame(result, columns = ('store','sido-gu','address',\n",
        "                                               'phone'))\n",
        "  hollys_tbl.to_csv('/hollys.csv', encoding = 'cp949', mode = 'w', index=True)\n",
        "  result.clear()\n",
        "\n",
        "if __name__ == '__main__':\n",
        "  main()"
      ]
    }
  ]
}