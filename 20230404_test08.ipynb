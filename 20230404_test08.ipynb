{
  "nbformat": 4,
  "nbformat_minor": 0,
  "metadata": {
    "colab": {
      "provenance": [],
      "authorship_tag": "ABX9TyPbNz/5kr3SlwV3tsKUb7xX",
      "include_colab_link": true
    },
    "kernelspec": {
      "name": "python3",
      "display_name": "Python 3"
    },
    "language_info": {
      "name": "python"
    }
  },
  "cells": [
    {
      "cell_type": "markdown",
      "metadata": {
        "id": "view-in-github",
        "colab_type": "text"
      },
      "source": [
        "<a href=\"https://colab.research.google.com/github/gogowonji/Big-Data-Analysis/blob/main/20230404_test08.ipynb\" target=\"_parent\"><img src=\"https://colab.research.google.com/assets/colab-badge.svg\" alt=\"Open In Colab\"/></a>"
      ]
    },
    {
      "cell_type": "code",
      "execution_count": 2,
      "metadata": {
        "id": "9TdyjsnStHpx"
      },
      "outputs": [],
      "source": [
        "import pandas as pd"
      ]
    },
    {
      "cell_type": "code",
      "source": [
        "data1 = [10,20,30,40,50]\n",
        "print(data1)"
      ],
      "metadata": {
        "colab": {
          "base_uri": "https://localhost:8080/"
        },
        "id": "_MVTNZQJtMBP",
        "outputId": "dc8ab534-bb62-4c94-f7b3-dbb2251edef8"
      },
      "execution_count": 3,
      "outputs": [
        {
          "output_type": "stream",
          "name": "stdout",
          "text": [
            "[10, 20, 30, 40, 50]\n"
          ]
        }
      ]
    },
    {
      "cell_type": "code",
      "source": [
        "data2 = ['1반','2반','3반','4반','5반']\n",
        "print(data2)"
      ],
      "metadata": {
        "colab": {
          "base_uri": "https://localhost:8080/"
        },
        "id": "l0xlSR_XtTiJ",
        "outputId": "0f82ffeb-9f40-4832-f0a2-c4b2470a88b4"
      },
      "execution_count": 4,
      "outputs": [
        {
          "output_type": "stream",
          "name": "stdout",
          "text": [
            "['1반', '2반', '3반', '4반', '5반']\n"
          ]
        }
      ]
    },
    {
      "cell_type": "code",
      "source": [
        "sr1 = pd.Series(data1) # 인덱스\n",
        "print(sr1)"
      ],
      "metadata": {
        "colab": {
          "base_uri": "https://localhost:8080/"
        },
        "id": "yZxsrjZ3tZzQ",
        "outputId": "a5c68925-5579-4a2a-c4c6-ac2590443d3a"
      },
      "execution_count": 5,
      "outputs": [
        {
          "output_type": "stream",
          "name": "stdout",
          "text": [
            "0    10\n",
            "1    20\n",
            "2    30\n",
            "3    40\n",
            "4    50\n",
            "dtype: int64\n"
          ]
        }
      ]
    },
    {
      "cell_type": "code",
      "source": [
        "sr2 = pd.Series(data2)\n",
        "print(sr2)"
      ],
      "metadata": {
        "colab": {
          "base_uri": "https://localhost:8080/"
        },
        "id": "lvvQW6oytdem",
        "outputId": "8b9f7ff0-ac69-462f-96b1-178c07160652"
      },
      "execution_count": 6,
      "outputs": [
        {
          "output_type": "stream",
          "name": "stdout",
          "text": [
            "0    1반\n",
            "1    2반\n",
            "2    3반\n",
            "3    4반\n",
            "4    5반\n",
            "dtype: object\n"
          ]
        }
      ]
    },
    {
      "cell_type": "code",
      "source": [
        "sr3 = pd.Series([101,102,103,104,105])\n",
        "print(sr3)"
      ],
      "metadata": {
        "id": "AUf0BW8muIFi",
        "colab": {
          "base_uri": "https://localhost:8080/"
        },
        "outputId": "9acdaf4b-2a4f-49b9-99b7-5b9a7fec8bdb"
      },
      "execution_count": 7,
      "outputs": [
        {
          "output_type": "stream",
          "name": "stdout",
          "text": [
            "0    101\n",
            "1    102\n",
            "2    103\n",
            "3    104\n",
            "4    105\n",
            "dtype: int64\n"
          ]
        }
      ]
    },
    {
      "cell_type": "code",
      "source": [
        "sr4 = pd.Series(['월','화','수','목','금']) # 데이터 넣기\n",
        "print(sr4)"
      ],
      "metadata": {
        "colab": {
          "base_uri": "https://localhost:8080/"
        },
        "id": "s6uM68__Mt2T",
        "outputId": "f0ba015b-4bb5-4d77-f698-9df32a9b1a5a"
      },
      "execution_count": 8,
      "outputs": [
        {
          "output_type": "stream",
          "name": "stdout",
          "text": [
            "0    월\n",
            "1    화\n",
            "2    수\n",
            "3    목\n",
            "4    금\n",
            "dtype: object\n"
          ]
        }
      ]
    },
    {
      "cell_type": "code",
      "source": [
        "sr5 = pd.Series(data1, index = [1000,1001,1002,1003,1004]) # 인덱스를 설정해줌\n",
        "print(sr5)"
      ],
      "metadata": {
        "colab": {
          "base_uri": "https://localhost:8080/"
        },
        "id": "3bWUR4KUNG4w",
        "outputId": "41bef705-cc67-47b5-bf74-d7abe181d00c"
      },
      "execution_count": 9,
      "outputs": [
        {
          "output_type": "stream",
          "name": "stdout",
          "text": [
            "1000    10\n",
            "1001    20\n",
            "1002    30\n",
            "1003    40\n",
            "1004    50\n",
            "dtype: int64\n"
          ]
        }
      ]
    },
    {
      "cell_type": "code",
      "source": [
        "sr6 = pd.Series(data1, index=data2)\n",
        "print(sr6)"
      ],
      "metadata": {
        "colab": {
          "base_uri": "https://localhost:8080/"
        },
        "id": "Tl9uJ3GlOR63",
        "outputId": "b6641ccc-5641-40e4-ce68-768bb585fc85"
      },
      "execution_count": 10,
      "outputs": [
        {
          "output_type": "stream",
          "name": "stdout",
          "text": [
            "1반    10\n",
            "2반    20\n",
            "3반    30\n",
            "4반    40\n",
            "5반    50\n",
            "dtype: int64\n"
          ]
        }
      ]
    },
    {
      "cell_type": "code",
      "source": [
        "sr7 = pd.Series(data2, index = sr4)\n",
        "print(sr7)"
      ],
      "metadata": {
        "colab": {
          "base_uri": "https://localhost:8080/"
        },
        "id": "i-d7-Zc-PB_X",
        "outputId": "c69f722b-5aba-4783-b7ae-5cd78a839b1f"
      },
      "execution_count": 11,
      "outputs": [
        {
          "output_type": "stream",
          "name": "stdout",
          "text": [
            "월    1반\n",
            "화    2반\n",
            "수    3반\n",
            "목    4반\n",
            "금    5반\n",
            "dtype: object\n"
          ]
        }
      ]
    },
    {
      "cell_type": "code",
      "source": [
        "print(sr7[2],sr7['수'],sr7[-1])"
      ],
      "metadata": {
        "colab": {
          "base_uri": "https://localhost:8080/"
        },
        "id": "EinK2wn2PNOu",
        "outputId": "d925f4ef-dd05-4311-9635-82aded702462"
      },
      "execution_count": 14,
      "outputs": [
        {
          "output_type": "stream",
          "name": "stdout",
          "text": [
            "3반 3반 5반\n"
          ]
        }
      ]
    },
    {
      "cell_type": "code",
      "source": [
        "print(sr7[0:2])"
      ],
      "metadata": {
        "colab": {
          "base_uri": "https://localhost:8080/"
        },
        "id": "KnNH4ZvSP86_",
        "outputId": "3def49f0-62a6-4701-c868-a92bb9319ede"
      },
      "execution_count": 15,
      "outputs": [
        {
          "output_type": "stream",
          "name": "stdout",
          "text": [
            "월    1반\n",
            "화    2반\n",
            "dtype: object\n"
          ]
        }
      ]
    },
    {
      "cell_type": "code",
      "source": [
        "print(sr7.index)\n",
        "print(sr7.values)"
      ],
      "metadata": {
        "colab": {
          "base_uri": "https://localhost:8080/"
        },
        "id": "3vCCLlkEQyFu",
        "outputId": "0ba49c43-9a92-4f5d-c27b-f14e123ec61b"
      },
      "execution_count": 17,
      "outputs": [
        {
          "output_type": "stream",
          "name": "stdout",
          "text": [
            "Index(['월', '화', '수', '목', '금'], dtype='object')\n",
            "['1반' '2반' '3반' '4반' '5반']\n"
          ]
        }
      ]
    }
  ]
}