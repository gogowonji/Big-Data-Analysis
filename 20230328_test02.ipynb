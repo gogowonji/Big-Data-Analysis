{
  "nbformat": 4,
  "nbformat_minor": 0,
  "metadata": {
    "colab": {
      "provenance": [],
      "authorship_tag": "ABX9TyNgS/Zt43GYft6P2/35ngtT",
      "include_colab_link": true
    },
    "kernelspec": {
      "name": "python3",
      "display_name": "Python 3"
    },
    "language_info": {
      "name": "python"
    }
  },
  "cells": [
    {
      "cell_type": "markdown",
      "metadata": {
        "id": "view-in-github",
        "colab_type": "text"
      },
      "source": [
        "<a href=\"https://colab.research.google.com/github/gogowonji/Big-Data-Analysis/blob/main/20230328_test02.ipynb\" target=\"_parent\"><img src=\"https://colab.research.google.com/assets/colab-badge.svg\" alt=\"Open In Colab\"/></a>"
      ]
    },
    {
      "cell_type": "code",
      "execution_count": null,
      "metadata": {
        "colab": {
          "base_uri": "https://localhost:8080/"
        },
        "id": "ylZNfIdjPfeT",
        "outputId": "3f8ff9b5-008f-4e97-aa39-9a5b02956d69"
      },
      "outputs": [
        {
          "output_type": "stream",
          "name": "stdout",
          "text": [
            "['피자', '치킨', '스테이크', '된장찌개', '바나나', '파스타', '감자튀김']\n",
            "점심 메뉴를 추천해 드립니다.\n",
            "추천 음식은 바로바로 -->  감자튀김\n",
            "\n",
            "['감자튀김', '된장찌개', '바나나', '스테이크', '치킨', '파스타', '피자']\n",
            "추가하고 싶은 음식이 있습니까? y/n y\n",
            "음식이름(그만 추가하려면 q): 샐러드\n",
            "음식이름(그만 추가하려면 q): 부대찌개\n",
            "음식이름(그만 추가하려면 q): q\n",
            "['감자튀김', '된장찌개', '바나나', '스테이크', '치킨', '파스타', '피자', '샐러드', '부대찌개']\n",
            "찾는 음식은? 피자\n",
            "7 번째 있습니다.\n"
          ]
        }
      ],
      "source": [
        "import random\n",
        "import time\n",
        "food = ['피자','치킨','스테이크','된장찌개','바나나','파스타','감자튀김']\n",
        "\n",
        "print(food)\n",
        "\n",
        "print(\"점심 메뉴를 추천해 드립니다.\")\n",
        "time.sleep(5) # time 시간차\n",
        "print(\"추천 음식은 바로바로 --> \", random.choice(food))\n",
        "# a=random.randint(0,len(food)-1) print(food[a])\n",
        "\n",
        "print()\n",
        "food.sort()\n",
        "print(food)\n",
        "\n",
        "ans = input(\"추가하고 싶은 음식이 있습니까? y/n \")\n",
        "# if ans = \"y\":\n",
        "#   while True:\n",
        "while(ans==\"y\"):\n",
        "  new = input(\"음식이름(그만 추가하려면 q): \")\n",
        "  if(new==\"q\"):\n",
        "    break\n",
        "  else:\n",
        "    food.append(new)\n",
        "\n",
        "print(food)\n",
        "find = input(\"찾는 음식은? \")\n",
        "print(food.index(find)+1,\"번째 있습니다.\")\n",
        "  \n",
        "\n"
      ]
    }
  ]
}