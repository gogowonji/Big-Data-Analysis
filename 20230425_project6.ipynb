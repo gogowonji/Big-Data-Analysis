{
  "nbformat": 4,
  "nbformat_minor": 0,
  "metadata": {
    "colab": {
      "provenance": [],
      "authorship_tag": "ABX9TyMoKgQ7tbJ0ZPH/ONFvUR0e",
      "include_colab_link": true
    },
    "kernelspec": {
      "name": "python3",
      "display_name": "Python 3"
    },
    "language_info": {
      "name": "python"
    }
  },
  "cells": [
    {
      "cell_type": "markdown",
      "metadata": {
        "id": "view-in-github",
        "colab_type": "text"
      },
      "source": [
        "<a href=\"https://colab.research.google.com/github/gogowonji/Big-Data-Analysis/blob/main/20230425_project6.ipynb\" target=\"_parent\"><img src=\"https://colab.research.google.com/assets/colab-badge.svg\" alt=\"Open In Colab\"/></a>"
      ]
    },
    {
      "cell_type": "code",
      "execution_count": null,
      "metadata": {
        "id": "JSRMDml9Tkb5"
      },
      "outputs": [],
      "source": [
        "#타이타닉생존율분석\n",
        "#결측치 치환해야함\n",
        "#상관관계의 정도 - 상관 계수 \n",
        "#회귀분석 - 인과관계를 설명 - 영향력의 크기를 알아내야 함\n",
        "\n",
        "import seaborn as sns\n",
        "import pandas as pd\n",
        "titanic = sns.load_dataset(\"titanic\")\n",
        "titanic.to_csv('titanic.csv',index = False)"
      ]
    },
    {
      "cell_type": "code",
      "source": [
        "#결측값 확인\n",
        "titanic.isnull().sum()"
      ],
      "metadata": {
        "colab": {
          "base_uri": "https://localhost:8080/"
        },
        "id": "NxmjCLPh0owX",
        "outputId": "0aa1e054-ffd1-4412-fbd6-ccbe5ef39a43"
      },
      "execution_count": null,
      "outputs": [
        {
          "output_type": "execute_result",
          "data": {
            "text/plain": [
              "survived         0\n",
              "pclass           0\n",
              "sex              0\n",
              "age            177\n",
              "sibsp            0\n",
              "parch            0\n",
              "fare             0\n",
              "embarked         2\n",
              "class            0\n",
              "who              0\n",
              "adult_male       0\n",
              "deck           688\n",
              "embark_town      2\n",
              "alive            0\n",
              "alone            0\n",
              "dtype: int64"
            ]
          },
          "metadata": {},
          "execution_count": 10
        }
      ]
    },
    {
      "cell_type": "code",
      "source": [
        "#결측값 채우기\n",
        "print(titanic['age'].median())\n",
        "titanic['age'] = titanic['age'].fillna(titanic['age'].median())\n",
        "\n",
        "print(titanic['embarked'].value_counts())\n",
        "titanic['embarked'] = titanic['embarked'].fillna('S')\n",
        "\n",
        "print(titanic['deck'].value_counts())\n",
        "titanic['deck'] = titanic['deck'].fillna('C')\n",
        "\n",
        "print(titanic['embark_town'].value_counts())\n",
        "titanic['embark_town'] = titanic['embark_town'].fillna('Southampton')"
      ],
      "metadata": {
        "colab": {
          "base_uri": "https://localhost:8080/"
        },
        "id": "OxdGnlZ109le",
        "outputId": "0c38a8c0-37bd-48c6-aced-7bb5ad80077e"
      },
      "execution_count": null,
      "outputs": [
        {
          "output_type": "stream",
          "name": "stdout",
          "text": [
            "28.0\n",
            "S    646\n",
            "C    168\n",
            "Q     77\n",
            "Name: embarked, dtype: int64\n",
            "C    747\n",
            "B     47\n",
            "D     33\n",
            "E     32\n",
            "A     15\n",
            "F     13\n",
            "G      4\n",
            "Name: deck, dtype: int64\n",
            "Southampton    646\n",
            "Cherbourg      168\n",
            "Queenstown      77\n",
            "Name: embark_town, dtype: int64\n"
          ]
        }
      ]
    },
    {
      "cell_type": "code",
      "source": [
        "#결측값 다시 확인\n",
        "titanic.isnull().sum()"
      ],
      "metadata": {
        "colab": {
          "base_uri": "https://localhost:8080/"
        },
        "id": "DCYtQ_jD1Uio",
        "outputId": "2e7d3474-4c03-4755-b7a2-7de85171d9dc"
      },
      "execution_count": null,
      "outputs": [
        {
          "output_type": "execute_result",
          "data": {
            "text/plain": [
              "survived       0\n",
              "pclass         0\n",
              "sex            0\n",
              "age            0\n",
              "sibsp          0\n",
              "parch          0\n",
              "fare           0\n",
              "embarked       0\n",
              "class          0\n",
              "who            0\n",
              "adult_male     0\n",
              "deck           0\n",
              "embark_town    0\n",
              "alive          0\n",
              "alone          0\n",
              "dtype: int64"
            ]
          },
          "metadata": {},
          "execution_count": 14
        }
      ]
    },
    {
      "cell_type": "code",
      "source": [],
      "metadata": {
        "id": "K2ee8MfR20gF"
      },
      "execution_count": null,
      "outputs": []
    }
  ]
}